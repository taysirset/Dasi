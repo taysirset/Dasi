{
 "cells": [
  {
   "cell_type": "code",
   "execution_count": 7,
   "id": "102da9bf",
   "metadata": {},
   "outputs": [],
   "source": [
    "import numpy as np\n",
    "from scipy import spatial\n",
    "import math\n",
    "import os, sys\n",
    "import pandas as pd\n",
    "import matplotlib.pyplot as plt\n",
    "import csv\n",
    "import pandas as pd\n",
    "from sklearn import preprocessing\n",
    "import copy"
   ]
  },
  {
   "cell_type": "code",
   "execution_count": 8,
   "id": "07282b92",
   "metadata": {},
   "outputs": [],
   "source": [
    "# Opening variable files\n",
    "dataMax = np.load(r\"C:\\Users\\dema.alkashkish\\OneDrive - Dasi Simulations LLC\\PPMI\\Data\\Max_variables.npz\")\n",
    "dataMean = np.load(r\"C:\\Users\\dema.alkashkish\\OneDrive - Dasi Simulations LLC\\PPMI\\Data\\Mean_variables.npz\")\n",
    "dataContact = np.load(r\"C:\\Users\\dema.alkashkish\\OneDrive - Dasi Simulations LLC\\PPMI\\Data\\Contact_variables.npz\")\n",
    "dataOther = np.load(r\"C:\\Users\\dema.alkashkish\\OneDrive - Dasi Simulations LLC\\PPMI\\Data\\Other_variables.npz\")"
   ]
  },
  {
   "cell_type": "code",
   "execution_count": 9,
   "id": "86c10e7a",
   "metadata": {},
   "outputs": [],
   "source": [
    "# Function to reorder variables so they are in order (B1 to B13)\n",
    "def reorder(var):\n",
    "    varReorder = copy.deepcopy(var)\n",
    "    for j in range(len(var)):\n",
    "        onePat = var[j] # One patient, both phases, all depths\n",
    "        if j==0:\n",
    "            p=0\n",
    "        elif ((j==1) or (j==2) or (j==3) or (j==4)):\n",
    "            p=j+7\n",
    "        elif j==5:\n",
    "            p=12\n",
    "        elif ((j==6) or (j==7) or (j==8) or (j==9) or (j==10) or (j==11) or (j==12)):\n",
    "            p=j-5\n",
    "        varReorder[p] = onePat\n",
    "    \n",
    "    return(varReorder)\n",
    "       "
   ]
  },
  {
   "cell_type": "code",
   "execution_count": 10,
   "id": "f10dc127",
   "metadata": {},
   "outputs": [],
   "source": [
    "# Universal Variables\n",
    "Fmag_max = dataMax['arr_0']; Fnorm_patch_max = dataMax['arr_1']; Faxial_max = dataMax['arr_2']; Fcirc_max = dataMax['arr_3']; \n",
    "Fmag_mean = dataMean['arr_0']; Fnorm_patch_mean = dataMean['arr_1']; Faxial_mean = dataMean['arr_2']; Fcirc_mean = dataMean['arr_3']\n",
    "ContF_Fmag = dataContact['arr_0']; ContF_Fnorm = dataContact['arr_1']; ContF_Faxial = dataContact['arr_2']; \n",
    "ContF_Fcirc = dataContact['arr_3']; contP_mean = dataContact['arr_4']; percCont_all = dataContact['arr_5']\n",
    "MS_length = dataOther['arr_0']; Annulus_area = dataOther['arr_1'];  Annulus_diameter = dataOther['arr_2']; \n",
    "LVOT_area = dataOther['arr_3']; LVOT_diameter = dataOther['arr_4']; ratioD_LVOT_Annulus = dataOther['arr_5']; \n",
    "calciumVol = dataOther['arr_6']; impDepth = dataOther['arr_7']; info = dataOther['arr_8']; k_max = dataOther['arr_9'];\n",
    "k_mean = dataOther['arr_10']; heartVal_type = dataOther['arr_11']; BSB_length = dataOther['arr_12']\n",
    "\n",
    "# Re-Ordering Variables\n",
    "Fmag_max = reorder(Fmag_max)\n",
    "Fnorm_patch_max = reorder(Fnorm_patch_max) \n",
    "Faxial_max = reorder(Faxial_max) \n",
    "Fcirc_max = reorder(Fcirc_max)\n",
    "Fmag_mean = reorder(Fmag_mean) \n",
    "Fnorm_patch_mean = reorder(Fnorm_patch_mean) \n",
    "Faxial_mean = reorder(Faxial_mean) \n",
    "Fcirc_mean = reorder(Fcirc_mean)\n",
    "ContF_Fmag = reorder(ContF_Fmag) \n",
    "ContF_Fnorm = reorder(ContF_Fnorm) \n",
    "ContF_Faxial = reorder(ContF_Faxial) \n",
    "ContF_Fcirc = reorder(ContF_Fcirc) \n",
    "contP_mean = reorder(contP_mean) \n",
    "percCont_all = reorder(percCont_all)\n",
    "MS_length = reorder(MS_length) \n",
    "Annulus_area = reorder(Annulus_area)\n",
    "Annulus_diameter = reorder(Annulus_diameter) \n",
    "LVOT_area = reorder(LVOT_area)\n",
    "LVOT_diameter = reorder(LVOT_diameter) \n",
    "ratioD_LVOT_Annulus = reorder(ratioD_LVOT_Annulus) \n",
    "calciumVol = reorder(calciumVol) \n",
    "impDepth = reorder(impDepth) \n",
    "info = reorder(info) \n",
    "k_max = reorder(k_max)\n",
    "k_mean = reorder(k_mean) \n",
    "heartVal_type = reorder(heartVal_type) \n",
    "BSB_length = reorder(BSB_length)\n",
    "\n",
    "patOrder = ['B1','B2','B3','B4','B5','B6','B7','B9','B10','B11','B12','B13','B16']"
   ]
  },
  {
   "cell_type": "code",
   "execution_count": 33,
   "id": "234f02b6",
   "metadata": {},
   "outputs": [],
   "source": [
    "depth=[] # list of depth order\n",
    "for patient in info[0][1]:\n",
    "    dep = patient.split('_')[2]\n",
    "    depth.append(dep) # depth includes all depths for both types"
   ]
  },
  {
   "cell_type": "code",
   "execution_count": null,
   "id": "73be890d",
   "metadata": {},
   "outputs": [],
   "source": []
  },
  {
   "cell_type": "code",
   "execution_count": null,
   "id": "883bcf02",
   "metadata": {},
   "outputs": [],
   "source": []
  }
 ],
 "metadata": {
  "kernelspec": {
   "display_name": "Python 3 (ipykernel)",
   "language": "python",
   "name": "python3"
  },
  "language_info": {
   "codemirror_mode": {
    "name": "ipython",
    "version": 3
   },
   "file_extension": ".py",
   "mimetype": "text/x-python",
   "name": "python",
   "nbconvert_exporter": "python",
   "pygments_lexer": "ipython3",
   "version": "3.10.9"
  }
 },
 "nbformat": 4,
 "nbformat_minor": 5
}
